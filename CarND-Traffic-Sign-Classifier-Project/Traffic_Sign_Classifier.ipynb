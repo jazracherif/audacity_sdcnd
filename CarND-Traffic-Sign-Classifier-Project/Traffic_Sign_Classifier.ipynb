{
 "cells": [
  {
   "cell_type": "markdown",
   "metadata": {},
   "source": [
    "# Self-Driving Car Engineer Nanodegree\n",
    "\n",
    "## Deep Learning\n",
    "\n",
    "## Project: Build a Traffic Sign Recognition Classifier\n",
    "\n",
    "In this notebook, a template is provided for you to implement your functionality in stages, which is required to successfully complete this project. If additional code is required that cannot be included in the notebook, be sure that the Python code is successfully imported and included in your submission if necessary. \n",
    "\n",
    "> **Note**: Once you have completed all of the code implementations, you need to finalize your work by exporting the iPython Notebook as an HTML document. Before exporting the notebook to html, all of the code cells need to have been run so that reviewers can see the final implementation and output. You can then export the notebook by using the menu above and navigating to  \\n\",\n",
    "    \"**File -> Download as -> HTML (.html)**. Include the finished document along with this notebook as your submission. \n",
    "\n",
    "In addition to implementing code, there is a writeup to complete. The writeup should be completed in a separate file, which can be either a markdown file or a pdf document. There is a [write up template](https://github.com/udacity/CarND-Traffic-Sign-Classifier-Project/blob/master/writeup_template.md) that can be used to guide the writing process. Completing the code template and writeup template will cover all of the [rubric points](https://review.udacity.com/#!/rubrics/481/view) for this project.\n",
    "\n",
    "The [rubric](https://review.udacity.com/#!/rubrics/481/view) contains \"Stand Out Suggestions\" for enhancing the project beyond the minimum requirements. The stand out suggestions are optional. If you decide to pursue the \"stand out suggestions\", you can include the code in this Ipython notebook and also discuss the results in the writeup file.\n",
    "\n",
    "\n",
    ">**Note:** Code and Markdown cells can be executed using the **Shift + Enter** keyboard shortcut. In addition, Markdown cells can be edited by typically double-clicking the cell to enter edit mode."
   ]
  },
  {
   "cell_type": "markdown",
   "metadata": {},
   "source": [
    "---\n",
    "## Step 0: Load The Data"
   ]
  },
  {
   "cell_type": "code",
   "execution_count": 28,
   "metadata": {},
   "outputs": [
    {
     "name": "stdout",
     "output_type": "stream",
     "text": [
      "12630 12630\n"
     ]
    }
   ],
   "source": [
    "# Load pickled data\n",
    "import pickle\n",
    "\n",
    "# TODO: Fill this in based on where you saved the training and testing data\n",
    "\n",
    "training_file = \"data/train.p\"\n",
    "validation_file= \"data/valid.p\"\n",
    "testing_file = \"data/test.p\"\n",
    "\n",
    "with open(training_file, mode='rb') as f:\n",
    "    train = pickle.load(f)\n",
    "with open(validation_file, mode='rb') as f:\n",
    "    valid = pickle.load(f)\n",
    "with open(testing_file, mode='rb') as f:\n",
    "    test = pickle.load(f)\n",
    "    \n",
    "X_train, y_train = train['features'], train['labels']\n",
    "X_valid, y_valid = valid['features'], valid['labels']\n",
    "X_test, y_test = test['features'], test['labels']\n"
   ]
  },
  {
   "cell_type": "markdown",
   "metadata": {},
   "source": [
    "---\n",
    "\n",
    "## Step 1: Dataset Summary & Exploration\n",
    "\n",
    "The pickled data is a dictionary with 4 key/value pairs:\n",
    "\n",
    "- `'features'` is a 4D array containing raw pixel data of the traffic sign images, (num examples, width, height, channels).\n",
    "- `'labels'` is a 1D array containing the label/class id of the traffic sign. The file `signnames.csv` contains id -> name mappings for each id.\n",
    "- `'sizes'` is a list containing tuples, (width, height) representing the original width and height the image.\n",
    "- `'coords'` is a list containing tuples, (x1, y1, x2, y2) representing coordinates of a bounding box around the sign in the image. **THESE COORDINATES ASSUME THE ORIGINAL IMAGE. THE PICKLED DATA CONTAINS RESIZED VERSIONS (32 by 32) OF THESE IMAGES**\n",
    "\n",
    "Complete the basic data summary below. Use python, numpy and/or pandas methods to calculate the data summary rather than hard coding the results. For example, the [pandas shape method](http://pandas.pydata.org/pandas-docs/stable/generated/pandas.DataFrame.shape.html) might be useful for calculating some of the summary results. "
   ]
  },
  {
   "cell_type": "markdown",
   "metadata": {},
   "source": [
    "### Provide a Basic Summary of the Data Set Using Python, Numpy and/or Pandas"
   ]
  },
  {
   "cell_type": "code",
   "execution_count": 29,
   "metadata": {},
   "outputs": [
    {
     "name": "stdout",
     "output_type": "stream",
     "text": [
      "Number of training examples = 34799\n",
      "Number of validation examples = 4410\n",
      "Number of testing examples = 12630\n",
      "Image data shape = (32, 32, 3)\n",
      "Number of classes = 43\n"
     ]
    }
   ],
   "source": [
    "### Replace each question mark with the appropriate value. \n",
    "### Use python, pandas or numpy methods rather than hard coding the results\n",
    "import pandas as pd\n",
    "import numpy as np\n",
    "\n",
    "# TODO: Number of training examples\n",
    "n_train = X_train.shape[0]\n",
    "\n",
    "# TODO: Number of validation examples\n",
    "n_validation = X_valid.shape[0]\n",
    "\n",
    "# TODO: Number of testing examples.\n",
    "n_test = X_test.shape[0]\n",
    "\n",
    "# TODO: What's the shape of an traffic sign image?\n",
    "image_shape = X_train.shape[1:]\n",
    "\n",
    "# TODO: How many unique classes/labels there are in the dataset.\n",
    "n_classes = len(pd.unique(y_train))\n",
    "\n",
    "print(\"Number of training examples =\", n_train)\n",
    "print(\"Number of validation examples =\", n_validation)\n",
    "print(\"Number of testing examples =\", n_test)\n",
    "print(\"Image data shape =\", image_shape)\n",
    "print(\"Number of classes =\", n_classes)"
   ]
  },
  {
   "cell_type": "markdown",
   "metadata": {},
   "source": [
    "### Include an exploratory visualization of the dataset"
   ]
  },
  {
   "cell_type": "markdown",
   "metadata": {},
   "source": [
    "Visualize the German Traffic Signs Dataset using the pickled file(s). This is open ended, suggestions include: plotting traffic sign images, plotting the count of each sign, etc. \n",
    "\n",
    "The [Matplotlib](http://matplotlib.org/) [examples](http://matplotlib.org/examples/index.html) and [gallery](http://matplotlib.org/gallery.html) pages are a great resource for doing visualizations in Python.\n",
    "\n",
    "**NOTE:** It's recommended you start with something simple first. If you wish to do more, come back to it after you've completed the rest of the sections. It can be interesting to look at the distribution of classes in the training, validation and test set. Is the distribution the same? Are there more examples of some classes than others?"
   ]
  },
  {
   "cell_type": "code",
   "execution_count": 3,
   "metadata": {},
   "outputs": [
    {
     "data": {
      "image/png": "[encoded data removed]",
      "text/plain": [
       "<matplotlib.figure.Figure at 0x7fcec4450630>"
      ]
     },
     "metadata": {},
     "output_type": "display_data"
    },
    {
     "data": {
      "image/png": "[encoded data removed]",
      "text/plain": [
       "<matplotlib.figure.Figure at 0x7fcec2140390>"
      ]
     },
     "metadata": {},
     "output_type": "display_data"
    },
    {
     "data": {
      "image/png": "[encoded data removed]",
      "text/plain": [
       "<matplotlib.figure.Figure at 0x7fcec20b3d68>"
      ]
     },
     "metadata": {},
     "output_type": "display_data"
    },
    {
     "data": {
      "image/png": "[encoded data removed]",
      "text/plain": [
       "<matplotlib.figure.Figure at 0x7fcec20228d0>"
      ]
     },
     "metadata": {},
     "output_type": "display_data"
    },
    {
     "name": "stdout",
     "output_type": "stream",
     "text": [
      "Top Labels\n",
      " 2010 pts : Speed limit (50km/h) (2)\n",
      " 1980 pts : Speed limit (30km/h) (1)\n",
      " 1920 pts : Yield (13)\n",
      " 1890 pts : Priority road (12)\n",
      " 1860 pts : Keep right (38)\n",
      "\n",
      "Bottom Labels\n",
      " 180 pts : Speed limit (20km/h) (0)\n",
      " 180 pts : Go straight or left (37)\n",
      " 180 pts : Dangerous curve to the left (19)\n",
      " 210 pts : End of all speed and passing limits (32)\n",
      " 210 pts : Pedestrians (27)\n"
     ]
    }
   ],
   "source": [
    "### Data exploration visualization code goes here.\n",
    "### Feel free to use as many code cells as needed.\n",
    "import matplotlib.pyplot as plt\n",
    "# Visualizations will be shown in the notebook.\n",
    "%matplotlib inline\n",
    "\n",
    "sign_names = pd.read_csv(\"signnames.csv\", index_col=0)\n",
    "\n",
    "n_ex = np.random.randint(1,n_train, 3)\n",
    "\n",
    "for m in n_ex:\n",
    "    img = X_train[m,:]\n",
    "    label = y_train[m]\n",
    "\n",
    "    labelName= sign_names.get_value(index=label, col=\"SignName\") + \" (\"+str(label) +\")\"\n",
    "    \n",
    "    plt.figure()\n",
    "    plt.imshow(img)\n",
    "    plt.title(labelName)\n",
    "    plt.show()\n",
    "    \n",
    "\n",
    "vals, bins = np.histogram(a=y_train, bins=n_classes)\n",
    "sorted_index = np.argsort(vals)\n",
    "bottom = sorted_index[:5]\n",
    "bottom20 = sorted_index[:20]\n",
    "\n",
    "top = list(reversed(sorted_index[-5:]))\n",
    "\n",
    "_y = pd.DataFrame(y_train)\n",
    "_y.hist(bins=n_classes)\n",
    "plt.title(\"y_train Histogram\")\n",
    "plt.xlabel(\"Label Id\")\n",
    "plt.ylabel(\"Num labels\")\n",
    "plt.show()\n",
    "print (\"Top Labels\")\n",
    "for i in top:\n",
    "    l = sign_names.get_value(index=i, col=\"SignName\")\n",
    "    print (\" {} pts : {} ({})\".format(vals[i], l, i))\n",
    "\n",
    "    \n",
    "print (\"\\nBottom Labels\")\n",
    "for i in bottom:\n",
    "    l = sign_names.get_value(index=i, col=\"SignName\")\n",
    "    print (\" {} pts : {} ({})\".format(vals[i], l, i))\n",
    "\n",
    "        \n"
   ]
  },
  {
   "cell_type": "markdown",
   "metadata": {},
   "source": [
    "----\n",
    "\n",
    "## Step 2: Design and Test a Model Architecture\n",
    "\n",
    "Design and implement a deep learning model that learns to recognize traffic signs. Train and test your model on the [German Traffic Sign Dataset](http://benchmark.ini.rub.de/?section=gtsrb&subsection=dataset).\n",
    "\n",
    "The LeNet-5 implementation shown in the [classroom](https://classroom.udacity.com/nanodegrees/nd013/parts/fbf77062-5703-404e-b60c-95b78b2f3f9e/modules/6df7ae49-c61c-4bb2-a23e-6527e69209ec/lessons/601ae704-1035-4287-8b11-e2c2716217ad/concepts/d4aca031-508f-4e0b-b493-e7b706120f81) at the end of the CNN lesson is a solid starting point. You'll have to change the number of classes and possibly the preprocessing, but aside from that it's plug and play! \n",
    "\n",
    "With the LeNet-5 solution from the lecture, you should expect a validation set accuracy of about 0.89. To meet specifications, the validation set accuracy will need to be at least 0.93. It is possible to get an even higher accuracy, but 0.93 is the minimum for a successful project submission. \n",
    "\n",
    "There are various aspects to consider when thinking about this problem:\n",
    "\n",
    "- Neural network architecture (is the network over or underfitting?)\n",
    "- Play around preprocessing techniques (normalization, rgb to grayscale, etc)\n",
    "- Number of examples per label (some have more than others).\n",
    "- Generate fake data.\n",
    "\n",
    "Here is an example of a [published baseline model on this problem](http://yann.lecun.com/exdb/publis/pdf/sermanet-ijcnn-11.pdf). It's not required to be familiar with the approach used in the paper but, it's good practice to try to read papers like these."
   ]
  },
  {
   "cell_type": "markdown",
   "metadata": {},
   "source": [
    "### Pre-process the Data Set (normalization, grayscale, etc.)"
   ]
  },
  {
   "cell_type": "markdown",
   "metadata": {},
   "source": [
    "Minimally, the image data should be normalized so that the data has mean zero and equal variance. For image data, `(pixel - 128)/ 128` is a quick way to approximately normalize the data and can be used in this project. \n",
    "\n",
    "Other pre-processing steps are optional. You can try different techniques to see if it improves performance. \n",
    "\n",
    "Use the code cell (or multiple code cells, if necessary) to implement the first step of your project."
   ]
  },
  {
   "cell_type": "code",
   "execution_count": 4,
   "metadata": {
    "collapsed": true,
    "scrolled": false
   },
   "outputs": [],
   "source": [
    "# Data Augmentation Methods\n",
    "import cv2\n",
    "from sklearn.utils import shuffle\n",
    "from tqdm import tqdm\n",
    "\n",
    "def augment_brightness_camera_images(image):\n",
    "    image1 = cv2.cvtColor(image,cv2.COLOR_RGB2HSV)\n",
    "    image1 = np.array(image1, dtype = np.float64)\n",
    "    random_bright = .5+np.random.uniform()\n",
    "    image1[:,:,2] = image1[:,:,2]*random_bright\n",
    "    image1[:,:,2][image1[:,:,2]>255]  = 255\n",
    "    image1 = np.array(image1, dtype = np.uint8)\n",
    "    image1 = cv2.cvtColor(image1,cv2.COLOR_HSV2RGB)\n",
    "    return image1\n",
    "\n",
    "def augment_brightness_camera_images2(img):\n",
    "    hsv = cv2.cvtColor(img, cv2.COLOR_BGR2HSV) #convert it to hsv\n",
    "\n",
    "    h, s, v = cv2.split(hsv)\n",
    "    v += 255\n",
    "    final_hsv = cv2.merge((h, s, v))\n",
    "\n",
    "    img = cv2.cvtColor(final_hsv, cv2.COLOR_HSV2BGR)\n",
    "    return img\n",
    "\n",
    "def transform_image(image, ang_range, shear_range, trans_range, do_bright=False):\n",
    "    # Rotation\n",
    "    ang_rot = np.random.uniform(ang_range)-ang_range/2\n",
    "    rows,cols,ch = image.shape    \n",
    "    Rot_M = cv2.getRotationMatrix2D((cols/2,rows/2),ang_rot,1)\n",
    "    \n",
    "    # Translation\n",
    "    tr_x = trans_range*np.random.uniform()-trans_range/2\n",
    "    tr_y = trans_range*np.random.uniform()-trans_range/2\n",
    "    Trans_M = np.float32([[1,0,tr_x],[0,1,tr_y]])\n",
    "    \n",
    "    # Shear\n",
    "    pts1 = np.float32([[5,5],[20,5],[5,20]])\n",
    "    pt1 = 5+shear_range*np.random.uniform()-shear_range/2\n",
    "    pt2 = 20+shear_range*np.random.uniform()-shear_range/2\n",
    "    pts2 = np.float32([[pt1,5],[pt2,pt1],[5,pt2]])\n",
    "    shear_M = cv2.getAffineTransform(pts1,pts2)\n",
    "        \n",
    "    image = cv2.warpAffine(image,Rot_M,(cols,rows))\n",
    "    image = cv2.warpAffine(image,Trans_M,(cols,rows))\n",
    "    image = cv2.warpAffine(image,shear_M,(cols,rows))\n",
    "    \n",
    "    #Brightness augmentation\n",
    "    if do_bright:\n",
    "        image = augment_brightness_camera_images(image)    \n",
    "    return image\n",
    "\n",
    "\n",
    "# print (X_train.shape, y_train.shape)\n",
    "\n",
    "# Got this list from precision-recall analysis\n",
    "# augment = [0, 20, 21, 22, 23, 24, 30, 31, 32, 33, 34, 40, 41, 42]\n",
    "# augment = [18, 22, 23, 31, 28]\n",
    "# augment = [0]\n",
    "\n",
    "# X_train, y_train = shuffle(X_train, y_train)\n",
    "# new_y = y_train[np.in1d(y_train, augment)]\n",
    "# new_x = X_train[np.in1d(y_train, augment)]\n",
    "\n",
    "# # new_y = y_train\n",
    "# # new_x = X_train\n",
    "\n",
    "# X_train_out = X_train\n",
    "# y_train_out = y_train\n",
    "\n",
    "# for i in tqdm(range(new_x.shape[0])):\n",
    "#     for j in range(1):\n",
    "#         img = new_x[i,:]\n",
    "        \n",
    "# #         img2 = transform_image(img, 20,10,5, True)\n",
    "#         img2 = augment_brightness_camera_images(img)\n",
    "        \n",
    "#         img2 = np.reshape(img2, newshape=([1] + list(img2.shape)))        \n",
    "#         X_train_out  = np.concatenate([X_train_out, img2], 0)\n",
    "#         y_train_out = np.concatenate([y_train_out, [new_y[i]] ])\n",
    "        \n",
    "# X_train = X_train_out\n",
    "# y_train = y_train_out\n",
    "# print (\"after\", X_train.shape, y_train.shape)"
   ]
  },
  {
   "cell_type": "code",
   "execution_count": 5,
   "metadata": {
    "collapsed": true
   },
   "outputs": [],
   "source": [
    "# img = X_train[38009,:]\n",
    "\n",
    "# plt.imshow(img)\n",
    "# plt.title(\"original\")\n",
    "# plt.show()\n",
    "\n",
    "# x_training_file = \"data/X_train_processed.p\"\n",
    "# y_training_file = \"data/y_train_processed.p\"\n",
    "\n",
    "# with open(x_training_file, mode='wb') as f:\n",
    "#     pickle.dump(X_train, f)\n",
    "    \n",
    "# with open(y_training_file, mode='wb') as f:\n",
    "#     pickle.dump(y_train, f)\n"
   ]
  },
  {
   "cell_type": "code",
   "execution_count": 6,
   "metadata": {
    "collapsed": true
   },
   "outputs": [],
   "source": [
    "# # Redraw the Histogram\n",
    "# print (\"0 37 19 32 27\", y_train[-1000:].shape,  np.unique(y_train[-1000:]))\n",
    "\n",
    "# vals, bins = np.histogram(a=y_train, bins=n_classes)\n",
    "# sorted_index = np.argsort(vals)\n",
    "# bottom = sorted_index[:5]\n",
    "# top = list(reversed(sorted_index[-5:]))\n",
    "\n",
    "# _y = pd.DataFrame(y_train)\n",
    "# _y.hist(bins=n_classes)\n",
    "# plt.title(\"y_train Histogram\")\n",
    "# plt.xlabel(\"Label Id\")\n",
    "# plt.ylabel(\"Num labels\")\n",
    "# plt.show()\n"
   ]
  },
  {
   "cell_type": "code",
   "execution_count": 30,
   "metadata": {},
   "outputs": [
    {
     "name": "stdout",
     "output_type": "stream",
     "text": [
      "(34799, 32, 32, 1) (4410, 32, 32, 1)\n",
      "12630 12630\n"
     ]
    }
   ],
   "source": [
    "### Preprocess the data here. It is required to normalize the data. Other preprocessing steps could include \n",
    "### converting to grayscale, etc.\n",
    "### Feel free to use as many code cells as needed.\n",
    "from sklearn.utils import shuffle\n",
    "\n",
    "# Grayscaling 1: Average method to grayscale images\n",
    "X_train = np.mean(X_train, axis=3, keepdims=True)\n",
    "X_valid = np.mean(X_valid, axis=3, keepdims=True)\n",
    "X_test = np.mean(X_test, axis=3, keepdims=True)\n",
    "\n",
    "# Grayscaling 2: luminosity method \n",
    "# X_train = 0.21 * X_train[:,:,:,0] +  0.72 * X_train[:,:,:,1] + 0.07 + X_train[:,:,:,2]\n",
    "# X_train = np.reshape(X_train, newshape = list(X_train.shape) + [1])\n",
    "\n",
    "# X_valid = 0.21 * X_valid[:,:,:,0] +  0.72 * X_valid[:,:,:,1] + 0.07 + X_valid[:,:,:,2]\n",
    "# X_valid = np.reshape(X_valid, newshape = list(X_valid.shape) + [1])\n",
    "\n",
    "# X_test = 0.21 * X_test[:,:,:,0] +  0.72 * X_test[:,:,:,1] + 0.07 + X_test[:,:,:,2]\n",
    "# X_valid = np.reshape(X_test, newshape = list(X_test.shape) + [1])\n",
    "\n",
    "\n",
    "### Normalization 1:\n",
    "X_train = (X_train - 128) / 128\n",
    "X_valid = (X_valid - 128) / 128\n",
    "X_test = (X_test - 128) / 128\n",
    "\n",
    "# Nomralization 2: \n",
    "# X_train = (X_train ) / 255 - 0.5\n",
    "# X_valid = (X_valid ) / 255 - 0.5\n",
    "# X_test = (X_test ) / 255 - 0.5\n",
    "\n",
    "print (X_train.shape, X_valid.shape)"
   ]
  },
  {
   "cell_type": "markdown",
   "metadata": {},
   "source": [
    "### Model Architecture"
   ]
  },
  {
   "cell_type": "code",
   "execution_count": 8,
   "metadata": {
    "collapsed": true
   },
   "outputs": [],
   "source": [
    "#Model Parameters\n",
    "EPOCHS = 50\n",
    "BATCH_SIZE = 128\n",
    "learning_rate = 0.001"
   ]
  },
  {
   "cell_type": "code",
   "execution_count": 9,
   "metadata": {
    "collapsed": true
   },
   "outputs": [],
   "source": [
    "### Define your architecture here.\n",
    "### Feel free to use as many code cells as needed.\n",
    "import tensorflow as tf\n",
    "\n",
    "# placeholders\n",
    "x = tf.placeholder(dtype=tf.float32, shape=[None, 32, 32, 1], name=\"x\")\n",
    "y = tf.placeholder(dtype=tf.int32, shape=[None], name=\"y\")\n",
    "\n",
    "one_hot_y = tf.one_hot(y, n_classes)"
   ]
  },
  {
   "cell_type": "code",
   "execution_count": 10,
   "metadata": {
    "collapsed": true
   },
   "outputs": [],
   "source": [
    "# Architecture\n",
    "from tensorflow.contrib.layers import flatten\n",
    "def LeNet(x, n_out):    \n",
    "    # Arguments used for tf.truncated_normal, randomly defines variables for the weights and biases for each layer\n",
    "    mu = 0\n",
    "    sigma = 0.1\n",
    "    \n",
    "    # Layer 1: Convolutional. Input = 32x32x1. Output = 28x28x6.\n",
    "    conv1_W = tf.Variable(tf.truncated_normal(shape=(5, 5, 1, 6), mean = mu, stddev = sigma))\n",
    "    conv1_b = tf.Variable(tf.zeros(6))\n",
    "    conv1   = tf.nn.conv2d(x, conv1_W, strides=[1, 1, 1, 1], padding='VALID') + conv1_b\n",
    "\n",
    "    # Activation.\n",
    "    _conv1 = tf.nn.relu(conv1)\n",
    "\n",
    "    # Pooling. Input = 28x28x6. Output = 14x14x6.\n",
    "    conv1 = tf.nn.max_pool(_conv1, ksize=[1, 2, 2, 1], strides=[1, 2, 2, 1], padding='VALID')\n",
    "\n",
    "    # Layer 2: Convolutional. Output = 10x10x16.\n",
    "    conv2_W = tf.Variable(tf.truncated_normal(shape=(5, 5, 6, 16), mean = mu, stddev = sigma))\n",
    "    conv2_b = tf.Variable(tf.zeros(16))\n",
    "    conv2   = tf.nn.conv2d(conv1, conv2_W, strides=[1, 1, 1, 1], padding='VALID') + conv2_b\n",
    "    \n",
    "    # Activation.\n",
    "    conv2 = tf.nn.relu(conv2)\n",
    "\n",
    "    # Pooling. Input = 10x10x16. Output = 5x5x16.\n",
    "    conv2 = tf.nn.max_pool(conv2, ksize=[1, 2, 2, 1], strides=[1, 2, 2, 1], padding='VALID')\n",
    "\n",
    "    # Flatten. Input = 5x5x16. Output = 400.\n",
    "    _conv2_flat   = flatten(conv2)\n",
    "    _conv1_flat = flatten(_conv1)\n",
    "    \n",
    "    fc0 = tf.concat(values=[_conv1_flat, _conv2_flat], concat_dim=1)\n",
    "\n",
    "\n",
    "    # Layer 3: Fully Connected. Input = 400. Output = 120.\n",
    "    fc1_W = tf.Variable(tf.truncated_normal(shape=(5104, 120), mean = mu, stddev = sigma))\n",
    "    fc1_b = tf.Variable(tf.zeros(120))\n",
    "    fc1   = tf.matmul(fc0, fc1_W) + fc1_b\n",
    "    \n",
    "    # Activation.\n",
    "    fc1    = tf.nn.relu(fc1)\n",
    "\n",
    "    # Layer 4: Fully Connected. Input = 120. Output = 84.\n",
    "    fc2_W  = tf.Variable(tf.truncated_normal(shape=(120, 84), mean = mu, stddev = sigma))\n",
    "    fc2_b  = tf.Variable(tf.zeros(84))\n",
    "    fc2    = tf.matmul(fc1, fc2_W) + fc2_b\n",
    "    \n",
    "    # Activation.\n",
    "    fc2    = tf.nn.relu(fc2)\n",
    "    \n",
    "    # Dropout\n",
    "    fc2 = tf.nn.dropout(fc2, 0.8)\n",
    "\n",
    "    # Layer 5: Fully Connected. Input = 84. Output = 10.\n",
    "    fc3_W  = tf.Variable(tf.truncated_normal(shape=(84, n_out), mean = mu, stddev = sigma))\n",
    "    fc3_b  = tf.Variable(tf.zeros(n_out))\n",
    "    logits = tf.matmul(fc2, fc3_W) + fc3_b\n",
    "    \n",
    "    return logits"
   ]
  },
  {
   "cell_type": "code",
   "execution_count": 11,
   "metadata": {
    "collapsed": true
   },
   "outputs": [],
   "source": [
    "logits = LeNet(x, n_out=n_classes)\n",
    "cross_entropy = tf.nn.softmax_cross_entropy_with_logits(labels=one_hot_y, logits=logits)\n",
    "\n",
    "loss_operation = tf.reduce_mean(cross_entropy)\n",
    "optimizer = tf.train.AdamOptimizer(learning_rate = learning_rate)\n",
    "training_operation = optimizer.minimize(loss_operation)"
   ]
  },
  {
   "cell_type": "markdown",
   "metadata": {},
   "source": [
    "### Train, Validate and Test the Model"
   ]
  },
  {
   "cell_type": "markdown",
   "metadata": {},
   "source": [
    "A validation set can be used to assess how well the model is performing. A low accuracy on the training and validation\n",
    "sets imply underfitting. A high accuracy on the training set but low accuracy on the validation set implies overfitting."
   ]
  },
  {
   "cell_type": "code",
   "execution_count": 14,
   "metadata": {
    "collapsed": true
   },
   "outputs": [],
   "source": [
    "### Train your model here.\n",
    "### Calculate and report the accuracy on the training and validation set.\n",
    "### Once a final model architecture is selected, \n",
    "### the accuracy on the test set should be calculated and reported as well.\n",
    "### Feel free to use as many code cells as needed.\n",
    "\n",
    "prediction = tf.argmax(logits, 1)\n",
    "correct_prediction = tf.equal(tf.argmax(logits, 1), tf.argmax(one_hot_y, 1))\n",
    "accuracy_operation = tf.reduce_mean(tf.cast(correct_prediction, tf.float32))\n",
    "saver = tf.train.Saver()\n",
    "\n",
    "def evaluate(X_data, y_data):\n",
    "    num_examples = len(X_data)\n",
    "    total_accuracy = 0\n",
    "    sess = tf.get_default_session()\n",
    "    for offset in range(0, num_examples, BATCH_SIZE):\n",
    "        batch_x, batch_y = X_data[offset:offset+BATCH_SIZE], y_data[offset:offset+BATCH_SIZE]\n",
    "        accuracy = sess.run(accuracy_operation, feed_dict={x: batch_x, y: batch_y})\n",
    "        total_accuracy += (accuracy * len(batch_x))\n",
    "    return total_accuracy / num_examples"
   ]
  },
  {
   "cell_type": "code",
   "execution_count": 15,
   "metadata": {
    "scrolled": false
   },
   "outputs": [
    {
     "name": "stdout",
     "output_type": "stream",
     "text": [
      "Training...\n",
      "\n",
      "EPOCH 1 ...\n",
      "Training Accuracy = 0.857\n",
      "Validation Accuracy = 0.775\n",
      "\n",
      "EPOCH 2 ...\n",
      "Training Accuracy = 0.926\n",
      "Validation Accuracy = 0.831\n",
      "\n",
      "EPOCH 3 ...\n",
      "Training Accuracy = 0.955\n",
      "Validation Accuracy = 0.870\n",
      "\n",
      "EPOCH 4 ...\n",
      "Training Accuracy = 0.967\n",
      "Validation Accuracy = 0.884\n",
      "\n",
      "EPOCH 5 ...\n",
      "Training Accuracy = 0.969\n",
      "Validation Accuracy = 0.889\n",
      "\n",
      "EPOCH 6 ...\n",
      "Training Accuracy = 0.983\n",
      "Validation Accuracy = 0.896\n",
      "\n",
      "EPOCH 7 ...\n",
      "Training Accuracy = 0.970\n",
      "Validation Accuracy = 0.885\n",
      "\n",
      "EPOCH 8 ...\n",
      "Training Accuracy = 0.985\n",
      "Validation Accuracy = 0.902\n",
      "\n",
      "EPOCH 9 ...\n",
      "Training Accuracy = 0.982\n",
      "Validation Accuracy = 0.904\n",
      "\n",
      "EPOCH 10 ...\n",
      "Training Accuracy = 0.990\n",
      "Validation Accuracy = 0.905\n",
      "\n",
      "EPOCH 11 ...\n",
      "Training Accuracy = 0.990\n",
      "Validation Accuracy = 0.907\n",
      "\n",
      "EPOCH 12 ...\n",
      "Training Accuracy = 0.987\n",
      "Validation Accuracy = 0.897\n",
      "\n",
      "EPOCH 13 ...\n",
      "Training Accuracy = 0.989\n",
      "Validation Accuracy = 0.915\n",
      "\n",
      "EPOCH 14 ...\n",
      "Training Accuracy = 0.990\n",
      "Validation Accuracy = 0.902\n",
      "\n",
      "EPOCH 15 ...\n",
      "Training Accuracy = 0.993\n",
      "Validation Accuracy = 0.910\n",
      "\n",
      "EPOCH 16 ...\n",
      "Training Accuracy = 0.990\n",
      "Validation Accuracy = 0.910\n",
      "\n",
      "EPOCH 17 ...\n",
      "Training Accuracy = 0.990\n",
      "Validation Accuracy = 0.898\n",
      "\n",
      "EPOCH 18 ...\n",
      "Training Accuracy = 0.990\n",
      "Validation Accuracy = 0.906\n",
      "\n",
      "EPOCH 19 ...\n",
      "Training Accuracy = 0.994\n",
      "Validation Accuracy = 0.908\n",
      "\n",
      "EPOCH 20 ...\n",
      "Training Accuracy = 0.994\n",
      "Validation Accuracy = 0.906\n",
      "\n",
      "EPOCH 21 ...\n",
      "Training Accuracy = 0.990\n",
      "Validation Accuracy = 0.900\n",
      "\n",
      "EPOCH 22 ...\n",
      "Training Accuracy = 0.996\n",
      "Validation Accuracy = 0.921\n",
      "\n",
      "EPOCH 23 ...\n",
      "Training Accuracy = 0.993\n",
      "Validation Accuracy = 0.915\n",
      "\n",
      "EPOCH 24 ...\n",
      "Training Accuracy = 0.996\n",
      "Validation Accuracy = 0.914\n",
      "\n",
      "EPOCH 25 ...\n",
      "Training Accuracy = 0.993\n",
      "Validation Accuracy = 0.900\n",
      "\n",
      "EPOCH 26 ...\n",
      "Training Accuracy = 0.991\n",
      "Validation Accuracy = 0.913\n",
      "\n",
      "EPOCH 27 ...\n",
      "Training Accuracy = 0.997\n",
      "Validation Accuracy = 0.917\n",
      "\n",
      "EPOCH 28 ...\n",
      "Training Accuracy = 0.996\n",
      "Validation Accuracy = 0.904\n",
      "\n",
      "EPOCH 29 ...\n",
      "Training Accuracy = 0.997\n",
      "Validation Accuracy = 0.919\n",
      "\n",
      "EPOCH 30 ...\n",
      "Training Accuracy = 0.996\n",
      "Validation Accuracy = 0.913\n",
      "\n",
      "EPOCH 31 ...\n",
      "Training Accuracy = 0.994\n",
      "Validation Accuracy = 0.907\n",
      "\n",
      "EPOCH 32 ...\n",
      "Training Accuracy = 0.997\n",
      "Validation Accuracy = 0.911\n",
      "\n",
      "EPOCH 33 ...\n",
      "Training Accuracy = 0.997\n",
      "Validation Accuracy = 0.917\n",
      "\n",
      "EPOCH 34 ...\n",
      "Training Accuracy = 0.995\n",
      "Validation Accuracy = 0.920\n",
      "\n",
      "EPOCH 35 ...\n",
      "Training Accuracy = 0.995\n",
      "Validation Accuracy = 0.914\n",
      "\n",
      "EPOCH 36 ...\n",
      "Training Accuracy = 0.998\n",
      "Validation Accuracy = 0.940\n",
      "\n",
      "Validation threshold reached!\n",
      "Model saved\n"
     ]
    }
   ],
   "source": [
    "with tf.Session() as sess:\n",
    "    sess.run(tf.global_variables_initializer())\n",
    "    #saver.restore(sess, tf.train.latest_checkpoint('./'))\n",
    "\n",
    "    num_examples = len(X_train)\n",
    "    \n",
    "    print(\"Training...\")\n",
    "    print()\n",
    "    for i in range(EPOCHS):\n",
    "        X_train, y_train = shuffle(X_train, y_train)\n",
    "\n",
    "        for offset in range(0, num_examples, BATCH_SIZE):\n",
    "            end = offset + BATCH_SIZE\n",
    "            batch_x, batch_y = X_train[offset:end], y_train[offset:end]\n",
    "            sess.run(training_operation, feed_dict={x: batch_x, y: batch_y})\n",
    "        \n",
    "        train_accuracy = evaluate(X_train, y_train)\n",
    "        validation_accuracy = evaluate(X_valid, y_valid)\n",
    "        print(\"EPOCH {} ...\".format(i+1))\n",
    "        print(\"Training Accuracy = {:.3f}\".format(train_accuracy))\n",
    "        print(\"Validation Accuracy = {:.3f}\".format(validation_accuracy))\n",
    "        print()\n",
    "        \n",
    "        if validation_accuracy >= 0.93:\n",
    "            print (\"Validation threshold reached!\")\n",
    "            break\n",
    "        \n",
    "    saver.save(sess, './lenet.ckpt')\n",
    "    print(\"Model saved\")"
   ]
  },
  {
   "cell_type": "markdown",
   "metadata": {},
   "source": [
    "## Evaluate the error on the Validation Set"
   ]
  },
  {
   "cell_type": "markdown",
   "metadata": {},
   "source": [
    "Get the list of predictions"
   ]
  },
  {
   "cell_type": "code",
   "execution_count": 16,
   "metadata": {
    "collapsed": true
   },
   "outputs": [],
   "source": [
    "from sklearn.metrics import confusion_matrix\n",
    "\n",
    "with tf.Session() as sess:\n",
    "    saver.restore(sess, tf.train.latest_checkpoint('.'))\n",
    "\n",
    "    num_examples = len(X_valid)\n",
    "    total_accuracy = 0\n",
    "    sess = tf.get_default_session()\n",
    "    predictList = []\n",
    "    for offset in range(0, num_examples, BATCH_SIZE):\n",
    "        batch_x, batch_y = X_valid[offset:offset+BATCH_SIZE], y_valid[offset:offset+BATCH_SIZE]\n",
    "        \n",
    "        predict, correct = sess.run( [prediction, correct_prediction], feed_dict={x: batch_x, y: batch_y})\n",
    "        predictList = np.concatenate([predictList, predict])"
   ]
  },
  {
   "cell_type": "markdown",
   "metadata": {},
   "source": [
    "Draw the Confusion Matrix and the Precision/Recall Classification Report"
   ]
  },
  {
   "cell_type": "code",
   "execution_count": 17,
   "metadata": {},
   "outputs": [
    {
     "name": "stdout",
     "output_type": "stream",
     "text": [
      "Confusion matrix, without normalization\n",
      "[[ 18   1   0 ...,   0   0   0]\n",
      " [  1 217   5 ...,   0   0   0]\n",
      " [  0   2 235 ...,   0   0   0]\n",
      " ..., \n",
      " [  0   1   0 ...,  50   0   0]\n",
      " [  0   0   0 ...,   0  21   0]\n",
      " [  0   0   0 ...,   0   0  29]]\n"
     ]
    },
    {
     "data": {
      "image/png": "[encoded data removed]",
      "text/plain": [
       "<matplotlib.figure.Figure at 0x7fce8a162320>"
      ]
     },
     "metadata": {},
     "output_type": "display_data"
    },
    {
     "name": "stdout",
     "output_type": "stream",
     "text": [
      "             precision    recall  f1-score   support\n",
      "\n",
      "          0       0.90      0.60      0.72        30\n",
      "          1       0.97      0.90      0.94       240\n",
      "          2       0.95      0.98      0.96       240\n",
      "          3       0.98      0.97      0.97       150\n",
      "          4       0.90      1.00      0.95       210\n",
      "          5       0.94      0.93      0.93       210\n",
      "          6       1.00      1.00      1.00        60\n",
      "          7       0.98      0.92      0.95       150\n",
      "          8       0.95      0.94      0.94       150\n",
      "          9       1.00      0.97      0.98       150\n",
      "         10       0.99      1.00      1.00       210\n",
      "         11       0.98      0.98      0.98       150\n",
      "         12       0.95      0.99      0.97       210\n",
      "         13       0.99      0.99      0.99       240\n",
      "         14       0.98      0.99      0.98        90\n",
      "         15       0.92      1.00      0.96        90\n",
      "         16       0.98      0.77      0.86        60\n",
      "         17       0.98      0.98      0.98       120\n",
      "         18       0.93      0.93      0.93       120\n",
      "         19       0.85      0.97      0.91        30\n",
      "         20       0.82      0.83      0.83        60\n",
      "         21       1.00      0.60      0.75        60\n",
      "         22       1.00      0.80      0.89        60\n",
      "         23       0.86      0.83      0.85        60\n",
      "         24       0.82      0.30      0.44        30\n",
      "         25       0.93      0.86      0.89       150\n",
      "         26       0.81      0.97      0.88        60\n",
      "         27       0.97      1.00      0.98        30\n",
      "         28       0.79      1.00      0.88        60\n",
      "         29       0.88      0.93      0.90        30\n",
      "         30       0.90      0.95      0.93        60\n",
      "         31       0.87      1.00      0.93        90\n",
      "         32       0.75      1.00      0.86        30\n",
      "         33       0.98      0.91      0.94        90\n",
      "         34       0.92      0.98      0.95        60\n",
      "         35       0.97      0.99      0.98       120\n",
      "         36       0.92      1.00      0.96        60\n",
      "         37       1.00      0.97      0.98        30\n",
      "         38       0.98      0.96      0.97       210\n",
      "         39       0.64      1.00      0.78        30\n",
      "         40       0.88      0.83      0.85        60\n",
      "         41       0.81      0.70      0.75        30\n",
      "         42       1.00      0.97      0.98        30\n",
      "\n",
      "avg / total       0.94      0.94      0.94      4410\n",
      "\n"
     ]
    }
   ],
   "source": [
    "from sklearn.metrics import confusion_matrix\n",
    "from sklearn.metrics import precision_recall_fscore_support\n",
    "from sklearn.metrics import classification_report\n",
    "import itertools\n",
    "\n",
    "def plot_confusion_matrix(cm, classes=None,\n",
    "                          normalize=False,\n",
    "                          title='Confusion matrix',\n",
    "                          cmap=plt.cm.Blues):\n",
    "    \"\"\"\n",
    "    This function prints and plots the confusion matrix.\n",
    "    Normalization can be applied by setting `normalize=True`.\n",
    "    \"\"\"\n",
    "    if normalize:\n",
    "        cm = cm.astype('float') / cm.sum(axis=1)[:, np.newaxis]\n",
    "        print(\"Normalized confusion matrix\")\n",
    "    else:\n",
    "        print('Confusion matrix, without normalization')\n",
    "\n",
    "    print(cm)\n",
    "    plt.clf()\n",
    "    plt.imshow(cm, interpolation='nearest', cmap=cmap)\n",
    "    plt.title(title)\n",
    "    plt.colorbar()\n",
    "\n",
    "    fmt = '.2f' if normalize else 'd'\n",
    "    thresh = cm.max() / 2.\n",
    "\n",
    "    plt.tight_layout()\n",
    "    plt.ylabel('True label')\n",
    "    plt.xlabel('Predicted label')\n",
    "    plt.show()\n",
    "\n",
    "# Compute confusion matrix\n",
    "cnf_matrix = confusion_matrix(y_valid, predictList)\n",
    "np.set_printoptions(precision=2)\n",
    "\n",
    "# Plot non-normalized confusion matrix\n",
    "plt.figure()\n",
    "plot_confusion_matrix(cnf_matrix,\n",
    "                      title='Confusion matrix, without normalization')\n",
    "\n",
    "print(classification_report(y_valid, predictList))"
   ]
  },
  {
   "cell_type": "markdown",
   "metadata": {},
   "source": [
    "Filter those classes which achieve an f1 score below our target"
   ]
  },
  {
   "cell_type": "code",
   "execution_count": 18,
   "metadata": {},
   "outputs": [
    {
     "name": "stdout",
     "output_type": "stream",
     "text": [
      "label, f_score, Support\n",
      "0 0.72 30\n",
      "16 0.859813084112 60\n",
      "18 0.929460580913 120\n",
      "19 0.90625 30\n",
      "20 0.826446280992 60\n",
      "21 0.75 60\n",
      "22 0.888888888889 60\n",
      "23 0.847457627119 60\n",
      "24 0.439024390244 30\n",
      "25 0.892733564014 150\n",
      "26 0.878787878788 60\n",
      "28 0.882352941176 60\n",
      "29 0.903225806452 30\n",
      "30 0.926829268293 60\n",
      "31 0.927835051546 90\n",
      "32 0.857142857143 30\n",
      "39 0.779220779221 30\n",
      "40 0.854700854701 60\n",
      "41 0.75 30\n"
     ]
    }
   ],
   "source": [
    "# List Labels that have F_1 score lower than target\n",
    "p, r, f, s = precision_recall_fscore_support(y_valid, predictList)\n",
    "\n",
    "idx=np.where(f<0.93)\n",
    "\n",
    "print (\"label, f_score, Support\")\n",
    "for _i, _f, _s in zip(idx[0], f[idx], s[idx]):\n",
    "    print (_i, _f, _s)\n",
    "    "
   ]
  },
  {
   "cell_type": "markdown",
   "metadata": {},
   "source": [
    "Plot some Misclassified pictures"
   ]
  },
  {
   "cell_type": "code",
   "execution_count": null,
   "metadata": {
    "collapsed": true,
    "scrolled": false
   },
   "outputs": [],
   "source": [
    "# Plots some Misclassified Pictures\n",
    "def plot_missclassified(predictList, y_valid, X_valid, sign_names):\n",
    "\n",
    "    misclassified = predictList!= y_valid\n",
    "\n",
    "    X_valid_missed = X_valid[misclassified]\n",
    "    Y_valid_missed = predictList[misclassified]\n",
    "    y_valid_expected = y_valid[misclassified]\n",
    "\n",
    "\n",
    "    X_valid_missed2 = X_valid_missed[np.in1d(Y_valid_missed, y_val_index)]\n",
    "    Y_valid_missed2 = Y_valid_missed[np.in1d(Y_valid_missed, y_val_index)]\n",
    "    y_valid_expected2 = y_valid_expected[np.in1d(Y_valid_missed, y_val_index)]\n",
    "\n",
    "    # rescale\n",
    "    X_valid_missed2 = X_valid_missed2* 128 + 128\n",
    "\n",
    "\n",
    "    for i in range(len(Y_valid_missed2)):\n",
    "        img = X_valid_missed2[i,:,:,0]\n",
    "\n",
    "        label = int(Y_valid_missed2[i])\n",
    "        expected = y_valid_expected2[i]\n",
    "\n",
    "        labelName= sign_names.get_value(index=label, col=\"SignName\") + \" (\"+str(label) +\")\"\n",
    "        ExpectedlabelName= sign_names.get_value(index=expected, col=\"SignName\") + \" (\"+str(expected) +\")\"\n",
    "\n",
    "\n",
    "        print (\"predicted {}, expected {}\". format(labelName, ExpectedlabelName))\n",
    "        plt.figure()\n",
    "        plt.imshow(img, cmap=\"gray\")\n",
    "        plt.show()"
   ]
  },
  {
   "cell_type": "markdown",
   "metadata": {},
   "source": [
    "## Evaluate on the Test set"
   ]
  },
  {
   "cell_type": "code",
   "execution_count": 38,
   "metadata": {},
   "outputs": [
    {
     "name": "stdout",
     "output_type": "stream",
     "text": [
      "Test set accuracy: 0.916\n"
     ]
    }
   ],
   "source": [
    "# Check Test error\n",
    "\n",
    "with tf.Session() as sess:\n",
    "    saver.restore(sess, tf.train.latest_checkpoint('./'))    \n",
    "    test_accuracy = sess.run(accuracy_operation, feed_dict={x: X_test, y: y_test})\n",
    "    \n",
    "print (\"Test set accuracy: {:0.3f}\".format(test_accuracy))  "
   ]
  },
  {
   "cell_type": "markdown",
   "metadata": {},
   "source": [
    "---\n",
    "\n",
    "## Step 3: Test a Model on New Images\n",
    "\n",
    "To give yourself more insight into how your model is working, download at least five pictures of German traffic signs from the web and use your model to predict the traffic sign type.\n",
    "\n",
    "You may find `signnames.csv` useful as it contains mappings from the class id (integer) to the actual sign name."
   ]
  },
  {
   "cell_type": "markdown",
   "metadata": {},
   "source": [
    "### Load and Output the Images"
   ]
  },
  {
   "cell_type": "code",
   "execution_count": 39,
   "metadata": {},
   "outputs": [
    {
     "data": {
      "image/png": "[encoded data removed]",
      "text/plain": [
       "<matplotlib.figure.Figure at 0x7fce884a24e0>"
      ]
     },
     "metadata": {},
     "output_type": "display_data"
    },
    {
     "data": {
      "image/png": "[encoded data removed]",
      "text/plain": [
       "<matplotlib.figure.Figure at 0x7fcec20517b8>"
      ]
     },
     "metadata": {},
     "output_type": "display_data"
    },
    {
     "data": {
      "image/png": "[encoded data removed]",
      "text/plain": [
       "<matplotlib.figure.Figure at 0x7fcec1f3b5c0>"
      ]
     },
     "metadata": {},
     "output_type": "display_data"
    },
    {
     "data": {
      "image/png": "[encoded data removed]",
      "text/plain": [
       "<matplotlib.figure.Figure at 0x7fcec1f2d978>"
      ]
     },
     "metadata": {},
     "output_type": "display_data"
    },
    {
     "data": {
      "image/png": "[encoded data removed]",
      "text/plain": [
       "<matplotlib.figure.Figure at 0x7fcec1f13d68>"
      ]
     },
     "metadata": {},
     "output_type": "display_data"
    }
   ],
   "source": [
    "### Load the images and plot them here.\n",
    "### Feel free to use as many code cells as needed.\n",
    "\n",
    "import os\n",
    "import cv2\n",
    "\n",
    "folder = \"./test/\"\n",
    "my_x_test = []\n",
    "Y_truth = []\n",
    "\n",
    "for f in os.listdir(folder):\n",
    "    if f == \".DS_Store\":\n",
    "        continue \n",
    "        \n",
    "    img = cv2.imread(folder+f, 3)\n",
    "    b,g,r = cv2.split(img)           # get b, g, r\n",
    "    img = cv2.merge([r,g,b])     # switch it to r, g, b\n",
    "\n",
    "    resized_image = cv2.resize(img, (32, 32))\n",
    "    \n",
    "    plt.figure()\n",
    "    plt.imshow(resized_image)\n",
    "    plt.show()\n",
    "    \n",
    "    my_x_test.append(resized_image)\n",
    "    label = (f.split(\".\")[0])\n",
    "    Y_truth.append(int( label ))\n",
    "    \n",
    "X_new_test = (np.stack(my_x_test))"
   ]
  },
  {
   "cell_type": "markdown",
   "metadata": {},
   "source": [
    "### Predict the Sign Type for Each Image"
   ]
  },
  {
   "cell_type": "code",
   "execution_count": 40,
   "metadata": {
    "collapsed": true
   },
   "outputs": [],
   "source": [
    "### Run the predictions here and use the model to output the prediction for each image.\n",
    "### Make sure to pre-process the images with the same pre-processing pipeline used earlier.\n",
    "### Feel free to use as many code cells as needed.\n",
    "\n",
    "# turn to grayscale first\n",
    "X_new_test = np.mean(X_new_test, axis=3, keepdims=True)\n",
    "\n",
    "# Normalize datasets\n",
    "X_new_test = (X_new_test - 128) / 128"
   ]
  },
  {
   "cell_type": "markdown",
   "metadata": {},
   "source": [
    "### Analyze Performance"
   ]
  },
  {
   "cell_type": "code",
   "execution_count": 41,
   "metadata": {},
   "outputs": [
    {
     "name": "stdout",
     "output_type": "stream",
     "text": [
      "Test Accuracy = 0.400\n"
     ]
    }
   ],
   "source": [
    "### Calculate the accuracy for these 5 new images. \n",
    "### For example, if the model predicted 1 out of 5 signs correctly, it's 20% accurate on these new images.\n",
    "\n",
    "with tf.Session() as sess:\n",
    "    saver.restore(sess, tf.train.latest_checkpoint('.'))\n",
    "\n",
    "    test_accuracy = evaluate(X_new_test, Y_truth)\n",
    "    print(\"Test Accuracy = {:.3f}\".format(test_accuracy))"
   ]
  },
  {
   "cell_type": "markdown",
   "metadata": {},
   "source": [
    "### Output Top 5 Softmax Probabilities For Each Image Found on the Web"
   ]
  },
  {
   "cell_type": "markdown",
   "metadata": {},
   "source": [
    "For each of the new images, print out the model's softmax probabilities to show the **certainty** of the model's predictions (limit the output to the top 5 probabilities for each image). [`tf.nn.top_k`](https://www.tensorflow.org/versions/r0.12/api_docs/python/nn.html#top_k) could prove helpful here. \n",
    "\n",
    "The example below demonstrates how tf.nn.top_k can be used to find the top k predictions for each image.\n",
    "\n",
    "`tf.nn.top_k` will return the values and indices (class ids) of the top k predictions. So if k=3, for each sign, it'll return the 3 largest probabilities (out of a possible 43) and the correspoding class ids.\n",
    "\n",
    "Take this numpy array as an example. The values in the array represent predictions. The array contains softmax probabilities for five candidate images with six possible classes. `tf.nn.top_k` is used to choose the three classes with the highest probability:\n",
    "\n",
    "```\n",
    "# (5, 6) array\n",
    "a = np.array([[ 0.24879643,  0.07032244,  0.12641572,  0.34763842,  0.07893497,\n",
    "         0.12789202],\n",
    "       [ 0.28086119,  0.27569815,  0.08594638,  0.0178669 ,  0.18063401,\n",
    "         0.15899337],\n",
    "       [ 0.26076848,  0.23664738,  0.08020603,  0.07001922,  0.1134371 ,\n",
    "         0.23892179],\n",
    "       [ 0.11943333,  0.29198961,  0.02605103,  0.26234032,  0.1351348 ,\n",
    "         0.16505091],\n",
    "       [ 0.09561176,  0.34396535,  0.0643941 ,  0.16240774,  0.24206137,\n",
    "         0.09155967]])\n",
    "```\n",
    "\n",
    "Running it through `sess.run(tf.nn.top_k(tf.constant(a), k=3))` produces:\n",
    "\n",
    "```\n",
    "TopKV2(values=array([[ 0.34763842,  0.24879643,  0.12789202],\n",
    "       [ 0.28086119,  0.27569815,  0.18063401],\n",
    "       [ 0.26076848,  0.23892179,  0.23664738],\n",
    "       [ 0.29198961,  0.26234032,  0.16505091],\n",
    "       [ 0.34396535,  0.24206137,  0.16240774]]), indices=array([[3, 0, 5],\n",
    "       [0, 1, 4],\n",
    "       [0, 5, 1],\n",
    "       [1, 3, 5],\n",
    "       [1, 4, 3]], dtype=int32))\n",
    "```\n",
    "\n",
    "Looking just at the first row we get `[ 0.34763842,  0.24879643,  0.12789202]`, you can confirm these are the 3 largest probabilities in `a`. You'll also notice `[3, 0, 5]` are the corresponding indices."
   ]
  },
  {
   "cell_type": "code",
   "execution_count": 43,
   "metadata": {},
   "outputs": [
    {
     "name": "stdout",
     "output_type": "stream",
     "text": [
      "Truth-label, Top-5-prediction, Top5-Probabilities\n",
      "1 [ 1  2  0  4 31] [  1.00e+00   8.20e-06   2.69e-09   6.09e-18   2.69e-18]\n",
      "11 [11 27 21 33 30] [  1.00e+00   3.19e-17   1.24e-23   1.05e-25   7.39e-27]\n",
      "4 [38 22 34 20 36] [  9.71e-01   2.73e-02   1.85e-03   1.10e-04   9.55e-15]\n",
      "27 [18 38 31 26 14] [  1.00e+00   1.92e-22   1.41e-22   8.02e-28   1.05e-28]\n",
      "25 [22 24 25 39 29] [  1.00e+00   1.49e-04   2.50e-05   1.32e-06   4.85e-10]\n"
     ]
    }
   ],
   "source": [
    "### Print out the top five softmax probabilities for the predictions on the German traffic sign images found on the web. \n",
    "### Feel free to use as many code cells as needed.\n",
    "\n",
    "with tf.Session() as sess:\n",
    "    saver.restore(sess, tf.train.latest_checkpoint('.'))\n",
    "\n",
    "    num_examples = len(X_new_test)\n",
    "    total_accuracy = 0\n",
    "    sess = tf.get_default_session()\n",
    "    for offset in range(0, num_examples, BATCH_SIZE):\n",
    "        batch_x, batch_y = X_new_test[offset:offset+BATCH_SIZE], Y_truth[offset:offset+BATCH_SIZE]        \n",
    "        _logits, accuracy = sess.run( [logits, accuracy_operation], feed_dict={x: batch_x, y: batch_y})\n",
    "    \n",
    "    # Print the top-5 probabilities\n",
    "    _logits = sess.run(tf.nn.softmax(_logits))\n",
    "    values, indices = sess.run(tf.nn.top_k(tf.constant(_logits), k=5))\n",
    "      \n",
    "    print (\"Truth-label, Top-5-prediction, Top5-Probabilities\")\n",
    "    for i in range(len(Y_truth)):\n",
    "        print (Y_truth[i], indices[i], values[i])"
   ]
  },
  {
   "cell_type": "markdown",
   "metadata": {},
   "source": [
    "### Project Writeup\n",
    "\n",
    "Once you have completed the code implementation, document your results in a project writeup using this [template](https://github.com/udacity/CarND-Traffic-Sign-Classifier-Project/blob/master/writeup_template.md) as a guide. The writeup can be in a markdown or pdf file. "
   ]
  },
  {
   "cell_type": "markdown",
   "metadata": {},
   "source": [
    "> **Note**: Once you have completed all of the code implementations and successfully answered each question above, you may finalize your work by exporting the iPython Notebook as an HTML document. You can do this by using the menu above and navigating to  \\n\",\n",
    "    \"**File -> Download as -> HTML (.html)**. Include the finished document along with this notebook as your submission."
   ]
  },
  {
   "cell_type": "markdown",
   "metadata": {},
   "source": [
    "---\n",
    "\n",
    "## Step 4 (Optional): Visualize the Neural Network's State with Test Images\n",
    "\n",
    " This Section is not required to complete but acts as an additional excersise for understaning the output of a neural network's weights. While neural networks can be a great learning device they are often referred to as a black box. We can understand what the weights of a neural network look like better by plotting their feature maps. After successfully training your neural network you can see what it's feature maps look like by plotting the output of the network's weight layers in response to a test stimuli image. From these plotted feature maps, it's possible to see what characteristics of an image the network finds interesting. For a sign, maybe the inner network feature maps react with high activation to the sign's boundary outline or to the contrast in the sign's painted symbol.\n",
    "\n",
    " Provided for you below is the function code that allows you to get the visualization output of any tensorflow weight layer you want. The inputs to the function should be a stimuli image, one used during training or a new one you provided, and then the tensorflow variable name that represents the layer's state during the training process, for instance if you wanted to see what the [LeNet lab's](https://classroom.udacity.com/nanodegrees/nd013/parts/fbf77062-5703-404e-b60c-95b78b2f3f9e/modules/6df7ae49-c61c-4bb2-a23e-6527e69209ec/lessons/601ae704-1035-4287-8b11-e2c2716217ad/concepts/d4aca031-508f-4e0b-b493-e7b706120f81) feature maps looked like for it's second convolutional layer you could enter conv2 as the tf_activation variable.\n",
    "\n",
    "For an example of what feature map outputs look like, check out NVIDIA's results in their paper [End-to-End Deep Learning for Self-Driving Cars](https://devblogs.nvidia.com/parallelforall/deep-learning-self-driving-cars/) in the section Visualization of internal CNN State. NVIDIA was able to show that their network's inner weights had high activations to road boundary lines by comparing feature maps from an image with a clear path to one without. Try experimenting with a similar test to show that your trained network's weights are looking for interesting features, whether it's looking at differences in feature maps from images with or without a sign, or even what feature maps look like in a trained network vs a completely untrained one on the same sign image.\n",
    "\n",
    "<figure>\n",
    " <img src=\"visualize_cnn.png\" width=\"380\" alt=\"Combined Image\" />\n",
    " <figcaption>\n",
    " <p></p> \n",
    " <p style=\"text-align: center;\"> Your output should look something like this (above)</p> \n",
    " </figcaption>\n",
    "</figure>\n",
    " <p></p> \n"
   ]
  },
  {
   "cell_type": "code",
   "execution_count": null,
   "metadata": {
    "collapsed": true
   },
   "outputs": [],
   "source": [
    "### Visualize your network's feature maps here.\n",
    "### Feel free to use as many code cells as needed.\n",
    "\n",
    "# image_input: the test image being fed into the network to produce the feature maps\n",
    "# tf_activation: should be a tf variable name used during your training procedure that represents the calculated state of a specific weight layer\n",
    "# activation_min/max: can be used to view the activation contrast in more detail, by default matplot sets min and max to the actual min and max values of the output\n",
    "# plt_num: used to plot out multiple different weight feature map sets on the same block, just extend the plt number for each new feature map entry\n",
    "\n",
    "def outputFeatureMap(image_input, tf_activation, activation_min=-1, activation_max=-1 ,plt_num=1):\n",
    "    # Here make sure to preprocess your image_input in a way your network expects\n",
    "    # with size, normalization, ect if needed\n",
    "    # image_input =\n",
    "    # Note: x should be the same name as your network's tensorflow data placeholder variable\n",
    "    # If you get an error tf_activation is not defined it may be having trouble accessing the variable from inside a function\n",
    "    activation = tf_activation.eval(session=sess,feed_dict={x : image_input})\n",
    "    featuremaps = activation.shape[3]\n",
    "    plt.figure(plt_num, figsize=(15,15))\n",
    "    for featuremap in range(featuremaps):\n",
    "        plt.subplot(6,8, featuremap+1) # sets the number of feature maps to show on each row and column\n",
    "        plt.title('FeatureMap ' + str(featuremap)) # displays the feature map number\n",
    "        if activation_min != -1 & activation_max != -1:\n",
    "            plt.imshow(activation[0,:,:, featuremap], interpolation=\"nearest\", vmin =activation_min, vmax=activation_max, cmap=\"gray\")\n",
    "        elif activation_max != -1:\n",
    "            plt.imshow(activation[0,:,:, featuremap], interpolation=\"nearest\", vmax=activation_max, cmap=\"gray\")\n",
    "        elif activation_min !=-1:\n",
    "            plt.imshow(activation[0,:,:, featuremap], interpolation=\"nearest\", vmin=activation_min, cmap=\"gray\")\n",
    "        else:\n",
    "            plt.imshow(activation[0,:,:, featuremap], interpolation=\"nearest\", cmap=\"gray\")"
   ]
  }
 ],
 "metadata": {
  "anaconda-cloud": {},
  "kernelspec": {
   "display_name": "Python 3",
   "language": "python",
   "name": "python3"
  },
  "language_info": {
   "codemirror_mode": {
    "name": "ipython",
    "version": 3
   },
   "file_extension": ".py",
   "mimetype": "text/x-python",
   "name": "python",
   "nbconvert_exporter": "python",
   "pygments_lexer": "ipython3",
   "version": "3.5.2"
  },
  "widgets": {
   "state": {},
   "version": "1.1.2"
  }
 },
 "nbformat": 4,
 "nbformat_minor": 1
}
